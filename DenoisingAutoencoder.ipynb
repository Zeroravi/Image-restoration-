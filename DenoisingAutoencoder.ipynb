{
 "cells": [
  {
   "cell_type": "markdown",
   "id": "e570ff05",
   "metadata": {},
   "source": [
    "# Image restoration using autoencoder\n",
    "### by Utsav Dey CS20S009"
   ]
  },
  {
   "cell_type": "code",
   "execution_count": 1,
   "id": "81e109f6",
   "metadata": {
    "execution": {
     "iopub.execute_input": "2022-07-25T07:43:19.903648Z",
     "iopub.status.busy": "2022-07-25T07:43:19.902449Z",
     "iopub.status.idle": "2022-07-25T07:43:26.340540Z",
     "shell.execute_reply": "2022-07-25T07:43:26.339341Z"
    },
    "id": "QbygB5YNKEMJ",
    "outputId": "cfca99ba-bbe3-48ed-9ed1-a5c189ad9469",
    "papermill": {
     "duration": 6.449117,
     "end_time": "2022-07-25T07:43:26.343271",
     "exception": false,
     "start_time": "2022-07-25T07:43:19.894154",
     "status": "completed"
    },
    "tags": []
   },
   "outputs": [],
   "source": [
    "import numpy as np\n",
    "from keras.datasets import mnist\n",
    "import matplotlib.pyplot as plt\n",
    "import torch.nn as nn\n",
    "from torch.utils.data import DataLoader,Dataset\n",
    "import torch\n",
    "import torch.optim as optim\n"
   ]
  },
  {
   "cell_type": "markdown",
   "id": "e2a897e6",
   "metadata": {
    "papermill": {
     "duration": 0.006184,
     "end_time": "2022-07-25T07:43:26.355924",
     "exception": false,
     "start_time": "2022-07-25T07:43:26.349740",
     "status": "completed"
    },
    "tags": []
   },
   "source": [
    "Util Functions to add gaussian noise and speckle noise."
   ]
  },
  {
   "cell_type": "code",
   "execution_count": 2,
   "id": "aa44c1ea",
   "metadata": {
    "execution": {
     "iopub.execute_input": "2022-07-25T07:43:26.369170Z",
     "iopub.status.busy": "2022-07-25T07:43:26.367923Z",
     "iopub.status.idle": "2022-07-25T07:43:26.376529Z",
     "shell.execute_reply": "2022-07-25T07:43:26.375673Z"
    },
    "id": "fbKtjNSyKclx",
    "papermill": {
     "duration": 0.017183,
     "end_time": "2022-07-25T07:43:26.378624",
     "exception": false,
     "start_time": "2022-07-25T07:43:26.361441",
     "status": "completed"
    },
    "tags": []
   },
   "outputs": [],
   "source": [
    "\n",
    "def add_gaussian_noise(img, row, col):\n",
    "  mean=0\n",
    "  var=.1\n",
    "  sigma=var**.5\n",
    "  noise=np.random.normal(mean,var,img.shape)\n",
    "  noise=noise.reshape(row,col)\n",
    "  img=img+noise\n",
    "  return img\n",
    "\n",
    "def add_speckle_noise(img, row, col):\n",
    "  noise=np.random.randn(row,col)\n",
    "  noise=noise.reshape(row,col)\n",
    "  img=img+img*noise\n",
    "  return img\n",
    "\n",
    "def add_noise(img,noise_type=\"gaussian\"):\n",
    "  row,col=28,28\n",
    "  img=img.astype(np.float32)\n",
    "  if noise_type==\"gaussian\":\n",
    "    return add_gaussian_noise(img, row, col)\n",
    "  if noise_type==\"speckle\":\n",
    "    return add_speckle_noise(img, row, col)\n",
    "\n",
    "\n"
   ]
  },
  {
   "cell_type": "markdown",
   "id": "3d4bc894",
   "metadata": {
    "papermill": {
     "duration": 0.005241,
     "end_time": "2022-07-25T07:43:26.389504",
     "exception": false,
     "start_time": "2022-07-25T07:43:26.384263",
     "status": "completed"
    },
    "tags": []
   },
   "source": [
    "Load MNIST data"
   ]
  },
  {
   "cell_type": "code",
   "execution_count": 3,
   "id": "bcdbcf43",
   "metadata": {
    "execution": {
     "iopub.execute_input": "2022-07-25T07:43:26.401913Z",
     "iopub.status.busy": "2022-07-25T07:43:26.401285Z",
     "iopub.status.idle": "2022-07-25T07:43:27.123363Z",
     "shell.execute_reply": "2022-07-25T07:43:27.122068Z"
    },
    "id": "crPgb8VXOceY",
    "outputId": "ada9c8c1-4bbc-4880-ca46-cfa504885fe9",
    "papermill": {
     "duration": 0.730778,
     "end_time": "2022-07-25T07:43:27.125820",
     "exception": false,
     "start_time": "2022-07-25T07:43:26.395042",
     "status": "completed"
    },
    "tags": []
   },
   "outputs": [
    {
     "name": "stdout",
     "output_type": "stream",
     "text": [
      "Downloading data from https://storage.googleapis.com/tensorflow/tf-keras-datasets/mnist.npz\n",
      "11493376/11490434 [==============================] - 0s 0us/step\n",
      "11501568/11490434 [==============================] - 0s 0us/step\n",
      "No of training datapoints:60000\n",
      "No of Test datapoints:10000\n"
     ]
    }
   ],
   "source": [
    "(train,_),(test,_)=mnist.load_data()\n",
    "print(f\"No of training datapoints:{len(train)}\\nNo of Test datapoints:{len(test)}\")"
   ]
  },
  {
   "cell_type": "markdown",
   "id": "1ee8aa8e",
   "metadata": {
    "papermill": {
     "duration": 0.006049,
     "end_time": "2022-07-25T07:43:27.138210",
     "exception": false,
     "start_time": "2022-07-25T07:43:27.132161",
     "status": "completed"
    },
    "tags": []
   },
   "source": [
    "Normalize the data by scaling them by 255."
   ]
  },
  {
   "cell_type": "code",
   "execution_count": 4,
   "id": "23f9ce14",
   "metadata": {
    "execution": {
     "iopub.execute_input": "2022-07-25T07:43:27.152401Z",
     "iopub.status.busy": "2022-07-25T07:43:27.152051Z",
     "iopub.status.idle": "2022-07-25T07:43:27.299815Z",
     "shell.execute_reply": "2022-07-25T07:43:27.298792Z"
    },
    "papermill": {
     "duration": 0.15787,
     "end_time": "2022-07-25T07:43:27.302747",
     "exception": false,
     "start_time": "2022-07-25T07:43:27.144877",
     "status": "completed"
    },
    "tags": []
   },
   "outputs": [],
   "source": [
    "train , test = train/255.0 , test/255.0"
   ]
  },
  {
   "cell_type": "markdown",
   "id": "c02896f0",
   "metadata": {
    "papermill": {
     "duration": 0.006213,
     "end_time": "2022-07-25T07:43:27.315677",
     "exception": false,
     "start_time": "2022-07-25T07:43:27.309464",
     "status": "completed"
    },
    "tags": []
   },
   "source": [
    "Create noisy data."
   ]
  },
  {
   "cell_type": "code",
   "execution_count": 5,
   "id": "29d29dc5",
   "metadata": {
    "execution": {
     "iopub.execute_input": "2022-07-25T07:43:27.329415Z",
     "iopub.status.busy": "2022-07-25T07:43:27.329080Z",
     "iopub.status.idle": "2022-07-25T07:43:31.237069Z",
     "shell.execute_reply": "2022-07-25T07:43:31.236098Z"
    },
    "papermill": {
     "duration": 3.917404,
     "end_time": "2022-07-25T07:43:31.239340",
     "exception": false,
     "start_time": "2022-07-25T07:43:27.321936",
     "status": "completed"
    },
    "tags": []
   },
   "outputs": [],
   "source": [
    "noises=[\"gaussian\",\"speckle\"]\n",
    "traindata = [np.expand_dims(add_noise(x,noise_type=noises[i%2]),axis=0) for i,x in enumerate(train)]\n",
    "testdata = [np.expand_dims(add_noise(x,noise_type=noises[i%2]),axis=0) for i,x in enumerate(test)]"
   ]
  },
  {
   "cell_type": "markdown",
   "id": "f4f3cf9b",
   "metadata": {
    "papermill": {
     "duration": 0.005898,
     "end_time": "2022-07-25T07:43:31.251728",
     "exception": false,
     "start_time": "2022-07-25T07:43:31.245830",
     "status": "completed"
    },
    "tags": []
   },
   "source": [
    "Plot to see what the training and target image looks like."
   ]
  },
  {
   "cell_type": "code",
   "execution_count": 6,
   "id": "aaee5e44",
   "metadata": {
    "execution": {
     "iopub.execute_input": "2022-07-25T07:43:31.265681Z",
     "iopub.status.busy": "2022-07-25T07:43:31.264847Z",
     "iopub.status.idle": "2022-07-25T07:43:31.663031Z",
     "shell.execute_reply": "2022-07-25T07:43:31.661884Z"
    },
    "id": "r1PruBRYUmYZ",
    "outputId": "78712c1a-755a-433a-cc34-4b501a2fad5a",
    "papermill": {
     "duration": 0.409187,
     "end_time": "2022-07-25T07:43:31.667176",
     "exception": false,
     "start_time": "2022-07-25T07:43:31.257989",
     "status": "completed"
    },
    "tags": []
   },
   "outputs": [
    {
     "data": {
      "image/png": "[encoded data removed]",
      "text/plain": [
       "<Figure size 432x288 with 4 Axes>"
      ]
     },
     "metadata": {
      "needs_background": "light"
     },
     "output_type": "display_data"
    }
   ],
   "source": [
    "\n",
    "f, axes=plt.subplots(2,2)\n",
    "\n",
    "for i,img_index in enumerate((0,25000)):\n",
    "    axes[0,i].imshow(train[img_index],cmap=\"gray\")\n",
    "    axes[0,i].set_title(\"Without Noise\")\n",
    "    axes[1,i].imshow(np.squeeze(traindata[img_index]),cmap='gray')\n",
    "    axes[1,i].set_title(\"With Noise\")\n",
    "\n"
   ]
  },
  {
   "cell_type": "code",
   "execution_count": 7,
   "id": "4ed5f136",
   "metadata": {
    "execution": {
     "iopub.execute_input": "2022-07-25T07:43:31.682046Z",
     "iopub.status.busy": "2022-07-25T07:43:31.681757Z",
     "iopub.status.idle": "2022-07-25T07:43:31.742558Z",
     "shell.execute_reply": "2022-07-25T07:43:31.741403Z"
    },
    "papermill": {
     "duration": 0.070655,
     "end_time": "2022-07-25T07:43:31.744623",
     "exception": false,
     "start_time": "2022-07-25T07:43:31.673968",
     "status": "completed"
    },
    "tags": []
   },
   "outputs": [],
   "source": [
    "import torch\n",
    "device = \"cuda:0\" if torch.cuda.is_available()==True else \"cpu\""
   ]
  },
  {
   "cell_type": "markdown",
   "id": "dfee0815",
   "metadata": {
    "papermill": {
     "duration": 0.006231,
     "end_time": "2022-07-25T07:43:31.758382",
     "exception": false,
     "start_time": "2022-07-25T07:43:31.752151",
     "status": "completed"
    },
    "tags": []
   },
   "source": [
    "Create a dataset class , where I am converting the image to correct dimension tensor. 1->channel,1x28*28 is the image vector row and column."
   ]
  },
  {
   "cell_type": "code",
   "execution_count": 8,
   "id": "45db070e",
   "metadata": {
    "execution": {
     "iopub.execute_input": "2022-07-25T07:43:31.772790Z",
     "iopub.status.busy": "2022-07-25T07:43:31.772486Z",
     "iopub.status.idle": "2022-07-25T07:43:31.779243Z",
     "shell.execute_reply": "2022-07-25T07:43:31.778289Z"
    },
    "id": "Vfchnr-E_kka",
    "papermill": {
     "duration": 0.016053,
     "end_time": "2022-07-25T07:43:31.781219",
     "exception": false,
     "start_time": "2022-07-25T07:43:31.765166",
     "status": "completed"
    },
    "tags": []
   },
   "outputs": [],
   "source": [
    "class data(Dataset):\n",
    "  def __init__(self,original,target):\n",
    "    self.noise=original\n",
    "    self.clean=target\n",
    "  \n",
    "  def __len__(self):\n",
    "    return len(self.noise)\n",
    "  \n",
    "  def __getitem__(self,idx):\n",
    "    X=torch.tensor(self.noise[idx]).view(1,1,28*28).to(device)\n",
    "    Y=torch.tensor(self.clean[idx]).view(1,1,28*28).to(device)\n",
    "\n",
    "    return (X,Y)\n",
    "      \n",
    "  \n",
    "    "
   ]
  },
  {
   "cell_type": "markdown",
   "id": "02daa1c7",
   "metadata": {
    "papermill": {
     "duration": 0.006134,
     "end_time": "2022-07-25T07:43:31.793791",
     "exception": false,
     "start_time": "2022-07-25T07:43:31.787657",
     "status": "completed"
    },
    "tags": []
   },
   "source": [
    "Create train data loader and test dataloader"
   ]
  },
  {
   "cell_type": "code",
   "execution_count": 9,
   "id": "15b5bf74",
   "metadata": {
    "execution": {
     "iopub.execute_input": "2022-07-25T07:43:31.808389Z",
     "iopub.status.busy": "2022-07-25T07:43:31.807498Z",
     "iopub.status.idle": "2022-07-25T07:43:31.813357Z",
     "shell.execute_reply": "2022-07-25T07:43:31.812528Z"
    },
    "id": "vTQ_iF1fXxC8",
    "papermill": {
     "duration": 0.015156,
     "end_time": "2022-07-25T07:43:31.815265",
     "exception": false,
     "start_time": "2022-07-25T07:43:31.800109",
     "status": "completed"
    },
    "tags": []
   },
   "outputs": [],
   "source": [
    "batch_size=32\n",
    "trainset=data(traindata,train)\n",
    "testset=data(testdata,test)\n",
    "trainloader=DataLoader(trainset,batch_size=batch_size,shuffle=True)\n",
    "testloader=DataLoader(testset,batch_size=1,shuffle=True)"
   ]
  },
  {
   "cell_type": "markdown",
   "id": "30a1f8e4",
   "metadata": {
    "papermill": {
     "duration": 0.006781,
     "end_time": "2022-07-25T07:43:31.828761",
     "exception": false,
     "start_time": "2022-07-25T07:43:31.821980",
     "status": "completed"
    },
    "tags": []
   },
   "source": [
    "Define the model."
   ]
  },
  {
   "cell_type": "code",
   "execution_count": 10,
   "id": "c3469037",
   "metadata": {
    "execution": {
     "iopub.execute_input": "2022-07-25T07:43:31.843439Z",
     "iopub.status.busy": "2022-07-25T07:43:31.842651Z",
     "iopub.status.idle": "2022-07-25T07:43:31.854665Z",
     "shell.execute_reply": "2022-07-25T07:43:31.853809Z"
    },
    "id": "1P60Cuv7pQO6",
    "papermill": {
     "duration": 0.021303,
     "end_time": "2022-07-25T07:43:31.856544",
     "exception": false,
     "start_time": "2022-07-25T07:43:31.835241",
     "status": "completed"
    },
    "tags": []
   },
   "outputs": [],
   "source": [
    "\n",
    "class CNNAutoEncoder(nn.Module):\n",
    "  def __init__(self):\n",
    "    nn.Module.__init__(self)\n",
    "    self.encoder=nn.Sequential(\n",
    "                  nn.Conv2d(in_channels=1,out_channels = 16, kernel_size = (3, 3),padding=1),\n",
    "                  nn.LeakyReLU(),\n",
    "                  nn.MaxPool2d((2, 2),padding=1),\n",
    "                  nn.Conv2d(in_channels=16,out_channels = 8, kernel_size = (3, 3),padding=1),\n",
    "                  nn.MaxPool2d((2, 2),padding=1),\n",
    "                  nn.Conv2d(in_channels=8,out_channels = 8, kernel_size = (3, 3),padding=1),\n",
    "                  nn.LeakyReLU(),\n",
    "                  nn.MaxPool2d((2, 2),padding=1),\n",
    "                  )\n",
    "    \n",
    "    self.decoder=nn.Sequential(\n",
    "                  nn.Conv2d(in_channels=8,out_channels = 8, kernel_size = (3, 3),padding=1),\n",
    "                  nn.LeakyReLU(),\n",
    "                  nn.Upsample(scale_factor=2, mode='nearest'),\n",
    "                  nn.Conv2d(in_channels=8,out_channels = 8, kernel_size = (3, 3),padding=1),\n",
    "                  nn.Upsample(scale_factor=2, mode='nearest'),\n",
    "                  nn.Conv2d(in_channels=8,out_channels = 16, kernel_size = (3, 3),padding=1),\n",
    "                  nn.LeakyReLU(),\n",
    "                  nn.Upsample(scale_factor=2, mode='nearest'),\n",
    "                  nn.Conv2d(in_channels=16,out_channels = 1, kernel_size = (3, 3),padding=1),\n",
    "                  nn.Flatten(),\n",
    "                  nn.Linear(792*8,784),\n",
    "                  nn.Sigmoid(),\n",
    "                 \n",
    "                  \n",
    "                  )\n",
    "    \n",
    " \n",
    "  def forward(self,x):\n",
    "    x=self.encoder(x)\n",
    "    x=self.decoder(x)\n",
    "    return x\n",
    "  "
   ]
  },
  {
   "cell_type": "code",
   "execution_count": 11,
   "id": "a9e23051",
   "metadata": {
    "execution": {
     "iopub.execute_input": "2022-07-25T07:43:31.870910Z",
     "iopub.status.busy": "2022-07-25T07:43:31.870653Z",
     "iopub.status.idle": "2022-07-25T07:43:36.171774Z",
     "shell.execute_reply": "2022-07-25T07:43:36.170828Z"
    },
    "papermill": {
     "duration": 4.310972,
     "end_time": "2022-07-25T07:43:36.174232",
     "exception": false,
     "start_time": "2022-07-25T07:43:31.863260",
     "status": "completed"
    },
    "tags": []
   },
   "outputs": [],
   "source": [
    "model=CNNAutoEncoder().to(device)\n",
    "model=model.float()"
   ]
  },
  {
   "cell_type": "code",
   "execution_count": 12,
   "id": "b1e25a2e",
   "metadata": {
    "execution": {
     "iopub.execute_input": "2022-07-25T07:43:36.190111Z",
     "iopub.status.busy": "2022-07-25T07:43:36.189184Z",
     "iopub.status.idle": "2022-07-25T07:43:36.209264Z",
     "shell.execute_reply": "2022-07-25T07:43:36.208394Z"
    },
    "papermill": {
     "duration": 0.030315,
     "end_time": "2022-07-25T07:43:36.211456",
     "exception": false,
     "start_time": "2022-07-25T07:43:36.181141",
     "status": "completed"
    },
    "tags": []
   },
   "outputs": [],
   "source": [
    "x,y=next(iter(trainloader))"
   ]
  },
  {
   "cell_type": "markdown",
   "id": "ad28ad70",
   "metadata": {
    "papermill": {
     "duration": 0.006717,
     "end_time": "2022-07-25T07:43:36.225007",
     "exception": false,
     "start_time": "2022-07-25T07:43:36.218290",
     "status": "completed"
    },
    "tags": []
   },
   "source": [
    "Sanity check for everything."
   ]
  },
  {
   "cell_type": "code",
   "execution_count": 13,
   "id": "db6051be",
   "metadata": {
    "execution": {
     "iopub.execute_input": "2022-07-25T07:43:36.240526Z",
     "iopub.status.busy": "2022-07-25T07:43:36.239423Z",
     "iopub.status.idle": "2022-07-25T07:43:41.780196Z",
     "shell.execute_reply": "2022-07-25T07:43:41.779065Z"
    },
    "papermill": {
     "duration": 5.550903,
     "end_time": "2022-07-25T07:43:41.782486",
     "exception": false,
     "start_time": "2022-07-25T07:43:36.231583",
     "status": "completed"
    },
    "tags": []
   },
   "outputs": [
    {
     "name": "stdout",
     "output_type": "stream",
     "text": [
      "Shape X - torch.Size([32, 1, 1, 784]) and shape of Y - torch.Size([32, 1, 1, 784]) and shape of output - torch.Size([32, 784])\n"
     ]
    }
   ],
   "source": [
    "print(f'Shape X - {x.shape} and shape of Y - {y.float().shape} and shape of output - {model(x.float()).shape}')"
   ]
  },
  {
   "cell_type": "code",
   "execution_count": 14,
   "id": "31106336",
   "metadata": {
    "execution": {
     "iopub.execute_input": "2022-07-25T07:43:41.800592Z",
     "iopub.status.busy": "2022-07-25T07:43:41.800289Z",
     "iopub.status.idle": "2022-07-25T07:43:41.831274Z",
     "shell.execute_reply": "2022-07-25T07:43:41.830221Z"
    },
    "papermill": {
     "duration": 0.040659,
     "end_time": "2022-07-25T07:43:41.833304",
     "exception": false,
     "start_time": "2022-07-25T07:43:41.792645",
     "status": "completed"
    },
    "tags": []
   },
   "outputs": [
    {
     "data": {
      "text/plain": [
       "tensor(0.2322, device='cuda:0', grad_fn=<MseLossBackward0>)"
      ]
     },
     "execution_count": 14,
     "metadata": {},
     "output_type": "execute_result"
    }
   ],
   "source": [
    "criterion=nn.MSELoss(reduction='mean')\n",
    "criterion(torch.squeeze(model(x.float())),torch.squeeze(y.float()))"
   ]
  },
  {
   "cell_type": "markdown",
   "id": "533656fe",
   "metadata": {
    "papermill": {
     "duration": 0.00686,
     "end_time": "2022-07-25T07:43:41.847108",
     "exception": false,
     "start_time": "2022-07-25T07:43:41.840248",
     "status": "completed"
    },
    "tags": []
   },
   "source": [
    "Validation Loop"
   ]
  },
  {
   "cell_type": "code",
   "execution_count": 15,
   "id": "b9538eda",
   "metadata": {
    "execution": {
     "iopub.execute_input": "2022-07-25T07:43:41.862641Z",
     "iopub.status.busy": "2022-07-25T07:43:41.861747Z",
     "iopub.status.idle": "2022-07-25T07:43:41.868080Z",
     "shell.execute_reply": "2022-07-25T07:43:41.867223Z"
    },
    "papermill": {
     "duration": 0.016208,
     "end_time": "2022-07-25T07:43:41.870221",
     "exception": false,
     "start_time": "2022-07-25T07:43:41.854013",
     "status": "completed"
    },
    "tags": []
   },
   "outputs": [],
   "source": [
    "def validate():\n",
    "    i=0\n",
    "    cum_loss=0\n",
    "    model.eval()\n",
    "    for x,y in testloader:\n",
    "        with torch.no_grad(): \n",
    "            output=model(x.float())\n",
    "            cum_loss+=criterion(output,y.float()).item()\n",
    "    return cum_loss/float(len(testloader))"
   ]
  },
  {
   "cell_type": "markdown",
   "id": "aa66f381",
   "metadata": {
    "papermill": {
     "duration": 0.006846,
     "end_time": "2022-07-25T07:43:41.884229",
     "exception": false,
     "start_time": "2022-07-25T07:43:41.877383",
     "status": "completed"
    },
    "tags": []
   },
   "source": [
    "Train loop."
   ]
  },
  {
   "cell_type": "code",
   "execution_count": 16,
   "id": "03551104",
   "metadata": {
    "execution": {
     "iopub.execute_input": "2022-07-25T07:43:41.900669Z",
     "iopub.status.busy": "2022-07-25T07:43:41.899230Z",
     "iopub.status.idle": "2022-07-25T07:48:04.796195Z",
     "shell.execute_reply": "2022-07-25T07:48:04.795076Z"
    },
    "id": "S_AYl41OsNtt",
    "outputId": "e000921e-4fc4-4597-b5c5-023405347075",
    "papermill": {
     "duration": 262.91536,
     "end_time": "2022-07-25T07:48:04.806567",
     "exception": false,
     "start_time": "2022-07-25T07:43:41.891207",
     "status": "completed"
    },
    "tags": []
   },
   "outputs": [
    {
     "name": "stderr",
     "output_type": "stream",
     "text": [
      "/opt/conda/lib/python3.7/site-packages/torch/nn/modules/loss.py:529: UserWarning: Using a target size (torch.Size([1, 1, 1, 784])) that is different to the input size (torch.Size([1, 784])). This will likely lead to incorrect results due to broadcasting. Please ensure they have the same size.\n",
      "  return F.mse_loss(input, target, reduction=self.reduction)\n"
     ]
    },
    {
     "name": "stdout",
     "output_type": "stream",
     "text": [
      "0/10 done : Loss:0.020286620442569257,Validation Loss:0.009586703863728325\n",
      "1/10 done : Loss:0.008161365888267755,Validation Loss:0.007136118776065996\n",
      "2/10 done : Loss:0.006611467854678631,Validation Loss:0.006047994114394532\n",
      "3/10 done : Loss:0.005831800369918347,Validation Loss:0.005572692942916182\n",
      "4/10 done : Loss:0.005347216849277417,Validation Loss:0.0053006029291893355\n",
      "5/10 done : Loss:0.005003036939601103,Validation Loss:0.005035553058207734\n",
      "6/10 done : Loss:0.0047504163168370726,Validation Loss:0.0048774687503173484\n",
      "7/10 done : Loss:0.00455745488293469,Validation Loss:0.004671262519498123\n",
      "8/10 done : Loss:0.004404740373169382,Validation Loss:0.0047860496111563405\n",
      "9/10 done : Loss:0.004263671205565333,Validation Loss:0.00452182841776812\n"
     ]
    }
   ],
   "source": [
    "\n",
    "optimizer=optim.Adam(model.parameters(),lr=0.001)\n",
    "epochs=10\n",
    "n=len(trainloader)\n",
    "cum_loss=0\n",
    "def train(optimizer, epochs, n):\n",
    "    for epoch in range(epochs):\n",
    "        model.train()\n",
    "        cum_loss=0\n",
    "        for x,y in trainloader:\n",
    "          output=model(x.float())\n",
    "          loss=criterion(torch.squeeze(output),torch.squeeze(y.float()))\n",
    "          optimizer.zero_grad()\n",
    "          loss.backward()\n",
    "          optimizer.step()\n",
    "          cum_loss+=loss.item()\n",
    "        print(f'{epoch}/{epochs} done : Loss:{cum_loss/n},Validation Loss:{validate()}')\n",
    "\n",
    "train(optimizer, epochs, n)\n"
   ]
  },
  {
   "cell_type": "markdown",
   "id": "580dc684",
   "metadata": {
    "papermill": {
     "duration": 0.007663,
     "end_time": "2022-07-25T07:48:04.822082",
     "exception": false,
     "start_time": "2022-07-25T07:48:04.814419",
     "status": "completed"
    },
    "tags": []
   },
   "source": [
    "See the output."
   ]
  },
  {
   "cell_type": "code",
   "execution_count": 17,
   "id": "190324db",
   "metadata": {
    "execution": {
     "iopub.execute_input": "2022-07-25T07:48:04.838631Z",
     "iopub.status.busy": "2022-07-25T07:48:04.838327Z",
     "iopub.status.idle": "2022-07-25T07:48:05.135255Z",
     "shell.execute_reply": "2022-07-25T07:48:05.134326Z"
    },
    "papermill": {
     "duration": 0.3079,
     "end_time": "2022-07-25T07:48:05.137603",
     "exception": false,
     "start_time": "2022-07-25T07:48:04.829703",
     "status": "completed"
    },
    "tags": []
   },
   "outputs": [
    {
     "data": {
      "text/plain": [
       "Text(0.5, 1.0, 'Actual')"
      ]
     },
     "execution_count": 17,
     "metadata": {},
     "output_type": "execute_result"
    },
    {
     "data": {
      "image/png": "[encoded data removed]",
      "text/plain": [
       "<Figure size 432x288 with 3 Axes>"
      ]
     },
     "metadata": {
      "needs_background": "light"
     },
     "output_type": "display_data"
    }
   ],
   "source": [
    "\n",
    "\n",
    "\n",
    "x,y=next(iter(testloader))\n",
    "f, axes=plt.subplots(1,3)\n",
    "\n",
    "\n",
    "axes[0].imshow(x.cpu().detach().reshape(28,-1),cmap='gray')\n",
    "axes[0].set_title(\"Input\")\n",
    "axes[1].imshow(model(x.float()).cpu().detach().reshape(28,-1),cmap=\"gray\")\n",
    "axes[1].set_title(\"Model Output\")\n",
    "axes[2].imshow(y.detach().cpu().reshape(28,-1),cmap='gray')\n",
    "axes[2].set_title(\"Actual\")\n",
    "\n",
    "\n"
   ]
  },
  {
   "cell_type": "code",
   "execution_count": 18,
   "id": "7091abd9",
   "metadata": {
    "execution": {
     "iopub.execute_input": "2022-07-25T07:48:05.155517Z",
     "iopub.status.busy": "2022-07-25T07:48:05.155218Z",
     "iopub.status.idle": "2022-07-25T07:48:05.868289Z",
     "shell.execute_reply": "2022-07-25T07:48:05.867101Z"
    },
    "papermill": {
     "duration": 0.724828,
     "end_time": "2022-07-25T07:48:05.870704",
     "exception": false,
     "start_time": "2022-07-25T07:48:05.145876",
     "status": "completed"
    },
    "tags": []
   },
   "outputs": [
    {
     "name": "stdout",
     "output_type": "stream",
     "text": [
      "/kaggle/working\r\n"
     ]
    }
   ],
   "source": [
    "!pwd\n"
   ]
  },
  {
   "cell_type": "code",
   "execution_count": 19,
   "id": "f6e89543",
   "metadata": {
    "execution": {
     "iopub.execute_input": "2022-07-25T07:48:05.889076Z",
     "iopub.status.busy": "2022-07-25T07:48:05.888727Z",
     "iopub.status.idle": "2022-07-25T07:48:05.951552Z",
     "shell.execute_reply": "2022-07-25T07:48:05.950564Z"
    },
    "id": "PhP1vseSPcZc",
    "papermill": {
     "duration": 0.074601,
     "end_time": "2022-07-25T07:48:05.953747",
     "exception": false,
     "start_time": "2022-07-25T07:48:05.879146",
     "status": "completed"
    },
    "tags": []
   },
   "outputs": [],
   "source": [
    "\n",
    "torch.save(model,'/kaggle/working/denoising_image.pth')  "
   ]
  }
 ],
 "metadata": {
  "kernelspec": {
   "display_name": "Python 3",
   "language": "python",
   "name": "python3"
  },
  "language_info": {
   "codemirror_mode": {
    "name": "ipython",
    "version": 3
   },
   "file_extension": ".py",
   "mimetype": "text/x-python",
   "name": "python",
   "nbconvert_exporter": "python",
   "pygments_lexer": "ipython3",
   "version": "3.7.12"
  },
  "papermill": {
   "default_parameters": {},
   "duration": 297.582079,
   "end_time": "2022-07-25T07:48:09.447794",
   "environment_variables": {},
   "exception": null,
   "input_path": "__notebook__.ipynb",
   "output_path": "__notebook__.ipynb",
   "parameters": {},
   "start_time": "2022-07-25T07:43:11.865715",
   "version": "2.3.4"
  }
 },
 "nbformat": 4,
 "nbformat_minor": 5
}
